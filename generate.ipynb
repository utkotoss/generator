{
 "cells": [
  {
   "cell_type": "code",
   "execution_count": 188,
   "metadata": {},
   "outputs": [],
   "source": [
    "import numpy as np\n",
    "import random"
   ]
  },
  {
   "cell_type": "code",
   "execution_count": 193,
   "metadata": {},
   "outputs": [],
   "source": [
    "class generator :\n",
    "    def __init__(self, size = 30) :\n",
    "        self.bin_dict = None\n",
    "        self.size = size\n",
    "    \n",
    "    def fit(self) :\n",
    "        text = open(r\"C:/Users/Taisia/Documents/Programming/DS/vlastelin_colec.txt\", encoding='utf-8')\n",
    "        words = text.read()\n",
    "        text.close()\n",
    "        list_of_words = words.lower().split()\n",
    "        \n",
    "        for word in list_of_words : # to erase all punctuation marks - it doesn't work actually :(, but still the answer looks nice\n",
    "            \n",
    "            \"\".join(letter for letter in word if letter not in ('!','.',':', ';', '?', ',', '—', ')', '('))\n",
    "            #new_word = \"\"\n",
    "            #for letter in word :\n",
    "            #   if letter.isalpha() == False :\n",
    "            #       new_word += word[:word.find(letter)]\n",
    "            #      word = word[word.find(letter) + 1:]\n",
    "            #word = new_word\n",
    "        \n",
    "        self.bin_dict = {}\n",
    "        for i in range(0, len(list_of_words) - 1) : # to create a dictionary with next words\n",
    "            word = list_of_words[i]\n",
    "            next_word = list_of_words[i + 1]\n",
    "            if word in self.bin_dict :\n",
    "                self.bin_dict[word].append(next_word)\n",
    "            else :\n",
    "                self.bin_dict[word] = []\n",
    "\n",
    "        return self\n",
    "    \n",
    "    def generate(self) :\n",
    "        answer = \"\"\n",
    "        condition = random.choice(list(self.bin_dict.keys()))\n",
    "        for i in range(0, self.size) :\n",
    "            while (len(self.bin_dict[condition]) == 0) :\n",
    "                condition = random.choice(list(self.bin_dict.keys()))\n",
    "            answer += condition + \" \"\n",
    "            condition = random.choice(self.bin_dict[condition])\n",
    "            \n",
    "        return answer"
   ]
  },
  {
   "cell_type": "code",
   "execution_count": 194,
   "metadata": {},
   "outputs": [],
   "source": [
    "model = generator()"
   ]
  },
  {
   "cell_type": "code",
   "execution_count": 195,
   "metadata": {},
   "outputs": [
    {
     "data": {
      "text/plain": [
       "<__main__.generator at 0x2b9e70ed5c0>"
      ]
     },
     "execution_count": 195,
     "metadata": {},
     "output_type": "execute_result"
    }
   ],
   "source": [
    "model.fit()"
   ]
  },
  {
   "cell_type": "code",
   "execution_count": 196,
   "metadata": {},
   "outputs": [
    {
     "data": {
      "text/plain": [
       "'бум, бум, дахрар горами. в тишине его тянуло холодным свежим приятном обществе, — недоумевал фродо. – начали отдаляться, они было заметно встревожился. – нет, и пиппин проснулся бильбо. охрана шира '"
      ]
     },
     "execution_count": 196,
     "metadata": {},
     "output_type": "execute_result"
    }
   ],
   "source": [
    "model.generate()"
   ]
  },
  {
   "cell_type": "code",
   "execution_count": null,
   "metadata": {},
   "outputs": [],
   "source": []
  }
 ],
 "metadata": {
  "kernelspec": {
   "display_name": "Python 3",
   "language": "python",
   "name": "python3"
  },
  "language_info": {
   "codemirror_mode": {
    "name": "ipython",
    "version": 3
   },
   "file_extension": ".py",
   "mimetype": "text/x-python",
   "name": "python",
   "nbconvert_exporter": "python",
   "pygments_lexer": "ipython3",
   "version": "3.7.3"
  }
 },
 "nbformat": 4,
 "nbformat_minor": 2
}
